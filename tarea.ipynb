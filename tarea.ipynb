{
 "cells": [
  {
   "cell_type": "code",
   "execution_count": 1,
   "id": "0509e9f1",
   "metadata": {},
   "outputs": [
    {
     "ename": "SyntaxError",
     "evalue": "unexpected character after line continuation character (3615189988.py, line 1)",
     "output_type": "error",
     "traceback": [
      "\u001b[1;36m  Cell \u001b[1;32mIn[1], line 1\u001b[1;36m\u001b[0m\n\u001b[1;33m    \\documentclass[12pt]{article}\u001b[0m\n\u001b[1;37m     ^\u001b[0m\n\u001b[1;31mSyntaxError\u001b[0m\u001b[1;31m:\u001b[0m unexpected character after line continuation character\n"
     ]
    }
   ],
   "source": [
    "\\documentclass[12pt]{article}\n",
    "\\usepackage[utf8]{inputenc}\n",
    "\\usepackage[spanish]{babel}\n",
    "\\usepackage{amsmath}\n",
    "\\usepackage{amsfonts}\n",
    "\\usepackage{graphicx}\n",
    "\n",
    "\\title{Coeficiente de Transmisión y Efecto Túnel}\n",
    "\\author{Física Computacional}\n",
    "\\date{}\n",
    "\n",
    "\\begin{document}\n",
    "\n",
    "\\maketitle\n",
    "\n",
    "El coeficiente de transmisión es la probabilidad de encontrar a la partícula al otro lado del obstáculo para tiempos largos. En sistemas clásicos este coeficiente es 1 si la energía de la partícula es mayor que la energía del escalón y 0 si es menor. En sistemas cuánticos esto cambia por la acción del efecto túnel. \n",
    "\n",
    "Para determinar si una partícula es reflejada o transmitida debemos colocar detectores al final del sistema. Como ya hemos visto, la probabilidad de encontrar a la partícula entre los puntos \\( x_1 \\) y \\( x_2 \\) viene dada por:\n",
    "\n",
    "\\begin{equation}\n",
    "    P(x_1, x_2) = \\int_{x_1}^{x_2} |\\Phi(x)|^2 dx\n",
    "\\end{equation}\n",
    "\n",
    "Suponemos que tenemos detectores finitos, actuando a derecha e izquierda de la barrera. Si estos detectores tienen un ancho de \\( N/5 \\), la probabilidad a tiempo \\( n \\) de detectar la partícula a la derecha vendrá dada por:\n",
    "\n",
    "\\[\n",
    "PD(n) = \\sum_{j=4N/5}^{N} |\\Phi_{j,n}|^2\n",
    "\\]\n",
    "\n",
    "y la probabilidad de detectarla a la izquierda sería:\n",
    "\n",
    "\\[\n",
    "PI(n) = \\sum_{j=0}^{N/5} |\\Phi_{j,n}|^2\n",
    "\\]\n",
    "\n",
    "Después de realizar el experimento \\( m \\) veces, el coeficiente de transmisión se calcula como:\n",
    "\n",
    "\\[\n",
    "K = \\frac{m_T}{m}\n",
    "\\]\n",
    "\n",
    "donde \\( m_T \\) es el número de veces que hemos detectado la partícula a la derecha del potencial.\n",
    "\n",
    "\\section*{Proceso de Medición}\n",
    "\n",
    "¿Cómo podemos realizar este proceso de medición con precisión? Un problema en un sistema dinámico de este tipo es saber determinar cuánto tiempo debemos dejar evolucionar el sistema antes de medir. Para tiempos demasiado cortos, la partícula puede no tener tiempo de moverse de su localización inicial. Para tiempos largos, la partícula podría encontrarse en cualquier lugar.\n",
    "\n",
    "Para resolver este problema se propone el siguiente método: para una partícula inicialmente localizada a la izquierda de una barrera de potencial y dirigida hacia ella, dejaremos evolucionar el sistema un tiempo \\( t \\) y estudiaremos el comportamiento de la función \\( PD(t) \\). Para determinar un tiempo de evolución apropiado, buscaremos el valor \\( t = n_D \\) correspondiente al primer máximo local de \\( PD(t) \\).\n",
    "\n",
    "\\section*{Algoritmo para Calcular el Coeficiente de Transmisión}\n",
    "\n",
    "\\begin{enumerate}\n",
    "    \\item Definimos \\( m_T = 0 \\).\n",
    "    \\item Generamos la función de onda inicial.\n",
    "    \\item Buscamos el valor \\( t = n_D \\) correspondiente al primer máximo local de \\( PD(t) \\).\n",
    "    \\item Evolucionamos \\( n_D \\) pasos.\n",
    "    \\item Calculamos \\( PD(n_D) \\).\n",
    "    \\item Simulamos el proceso de medición generando un número aleatorio \\( p \\in [0, 1] \\). Si \\( p > PD(n_D) \\), habremos detectado la partícula y actualizamos el valor \\( m_T = m_T + 1 \\). Si \\( p < PD(n_D) \\), no se habrá detectado la partícula y actualizamos \\( m_T = m_T + 0 \\).\n",
    "    \\item Volvemos al paso 2.\n",
    "\\end{enumerate}\n",
    "\n",
    "\\end{document}\n"
   ]
  }
 ],
 "metadata": {
  "kernelspec": {
   "display_name": "base",
   "language": "python",
   "name": "python3"
  },
  "language_info": {
   "codemirror_mode": {
    "name": "ipython",
    "version": 3
   },
   "file_extension": ".py",
   "mimetype": "text/x-python",
   "name": "python",
   "nbconvert_exporter": "python",
   "pygments_lexer": "ipython3",
   "version": "3.12.8"
  }
 },
 "nbformat": 4,
 "nbformat_minor": 5
}
